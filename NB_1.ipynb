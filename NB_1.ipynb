{
  "nbformat": 4,
  "nbformat_minor": 0,
  "metadata": {
    "colab": {
      "name": "NB-1.ipynb",
      "version": "0.3.2",
      "provenance": [],
      "collapsed_sections": []
    },
    "kernelspec": {
      "name": "python3",
      "display_name": "Python 3"
    }
  },
  "cells": [
    {
      "cell_type": "markdown",
      "metadata": {
        "id": "NpoSluCm_fy_",
        "colab_type": "text"
      },
      "source": [
        "## Presentation\n",
        "\n",
        "https://docs.google.com/presentation/d/1gWDEJGWc-G6b2Ku3uEv_5m6EUteJ519EogykLyPm82U/edit?fbclid=IwAR18qRxlvCaSnY26iMjTkq3pFQ8tm_lpzQqYHnOn3QcUjX6sRPRyIpLaGto#slide=id.gcb9a0b074_1_213"
      ]
    },
    {
      "cell_type": "markdown",
      "metadata": {
        "id": "126BHiN9v0Fc",
        "colab_type": "text"
      },
      "source": [
        "## Python Basics"
      ]
    },
    {
      "cell_type": "code",
      "metadata": {
        "id": "d-nVhveIvgCK",
        "colab_type": "code",
        "colab": {}
      },
      "source": [
        "x=4\n",
        "y='okay!'\n",
        "y+y\n",
        "y*2\n",
        "\n",
        "#fyi indentation\n",
        "\n",
        "#function\n",
        "#list, dict\n",
        "#loop\n",
        "#list comprehension"
      ],
      "execution_count": 0,
      "outputs": []
    },
    {
      "cell_type": "markdown",
      "metadata": {
        "id": "KFKvE5cAyTLr",
        "colab_type": "text"
      },
      "source": [
        "## ipynb basics"
      ]
    },
    {
      "cell_type": "markdown",
      "metadata": {
        "id": "1ClLww41yXUy",
        "colab_type": "text"
      },
      "source": [
        "- md styles\n",
        "- colab\n",
        "- anaconda/jupyter notebook\n",
        "- ipynb vs python script\n",
        "- gpu"
      ]
    },
    {
      "cell_type": "markdown",
      "metadata": {
        "id": "6k4_Yt1EwdB-",
        "colab_type": "text"
      },
      "source": [
        "## Drive"
      ]
    },
    {
      "cell_type": "code",
      "metadata": {
        "id": "JlUJCwcA8KAN",
        "colab_type": "code",
        "colab": {
          "base_uri": "https://localhost:8080/",
          "height": 122
        },
        "outputId": "06fdab14-af70-4acc-809b-c7555bc0e805"
      },
      "source": [
        "from google.colab import drive\n",
        "drive.mount('/content/gdrive')"
      ],
      "execution_count": 1,
      "outputs": [
        {
          "output_type": "stream",
          "text": [
            "Go to this URL in a browser: https://accounts.google.com/o/oauth2/auth?client_id=947318989803-6bn6qk8qdgf4n4g3pfee6491hc0brc4i.apps.googleusercontent.com&redirect_uri=urn%3Aietf%3Awg%3Aoauth%3A2.0%3Aoob&scope=email%20https%3A%2F%2Fwww.googleapis.com%2Fauth%2Fdocs.test%20https%3A%2F%2Fwww.googleapis.com%2Fauth%2Fdrive%20https%3A%2F%2Fwww.googleapis.com%2Fauth%2Fdrive.photos.readonly%20https%3A%2F%2Fwww.googleapis.com%2Fauth%2Fpeopleapi.readonly&response_type=code\n",
            "\n",
            "Enter your authorization code:\n",
            "··········\n",
            "Mounted at /content/gdrive\n"
          ],
          "name": "stdout"
        }
      ]
    },
    {
      "cell_type": "markdown",
      "metadata": {
        "id": "zYU-4PbWwB7Y",
        "colab_type": "text"
      },
      "source": [
        "## Libs\n",
        "fyi: import"
      ]
    },
    {
      "cell_type": "code",
      "metadata": {
        "id": "_4EznWRiwiUU",
        "colab_type": "code",
        "colab": {}
      },
      "source": [
        "import pandas as pd\n",
        "import numpy as np"
      ],
      "execution_count": 0,
      "outputs": []
    },
    {
      "cell_type": "code",
      "metadata": {
        "id": "2Lr9dZMfwsX-",
        "colab_type": "code",
        "colab": {}
      },
      "source": [
        "import os\n",
        "from pathlib import Path\n",
        "\n",
        "path = Path(os.getcwd())"
      ],
      "execution_count": 0,
      "outputs": []
    },
    {
      "cell_type": "code",
      "metadata": {
        "id": "_zLPZ3s9w9pg",
        "colab_type": "code",
        "colab": {
          "base_uri": "https://localhost:8080/",
          "height": 34
        },
        "outputId": "7348116c-66c3-44a4-d122-19a73a376d29"
      },
      "source": [
        "path"
      ],
      "execution_count": 9,
      "outputs": [
        {
          "output_type": "execute_result",
          "data": {
            "text/plain": [
              "PosixPath('/content')"
            ]
          },
          "metadata": {
            "tags": []
          },
          "execution_count": 9
        }
      ]
    },
    {
      "cell_type": "markdown",
      "metadata": {
        "id": "QWO0Tn9ByFIo",
        "colab_type": "text"
      },
      "source": [
        "### Pandas"
      ]
    },
    {
      "cell_type": "code",
      "metadata": {
        "id": "ySbrwMp9wDg1",
        "colab_type": "code",
        "colab": {}
      },
      "source": [
        "#pandas\n",
        "df = pd.read_csv(path/'gdrive'/'My Drive'/'ML'/'workshop materials'/'bangla_lstm.csv');"
      ],
      "execution_count": 0,
      "outputs": []
    },
    {
      "cell_type": "code",
      "metadata": {
        "id": "JnD0ZYwwxikQ",
        "colab_type": "code",
        "colab": {
          "base_uri": "https://localhost:8080/",
          "height": 204
        },
        "outputId": "4c27cbad-37c2-49c1-a90b-92753a958e35"
      },
      "source": [
        "df.head()"
      ],
      "execution_count": 11,
      "outputs": [
        {
          "output_type": "execute_result",
          "data": {
            "text/html": [
              "<div>\n",
              "<style scoped>\n",
              "    .dataframe tbody tr th:only-of-type {\n",
              "        vertical-align: middle;\n",
              "    }\n",
              "\n",
              "    .dataframe tbody tr th {\n",
              "        vertical-align: top;\n",
              "    }\n",
              "\n",
              "    .dataframe thead th {\n",
              "        text-align: right;\n",
              "    }\n",
              "</style>\n",
              "<table border=\"1\" class=\"dataframe\">\n",
              "  <thead>\n",
              "    <tr style=\"text-align: right;\">\n",
              "      <th></th>\n",
              "      <th>post</th>\n",
              "      <th>tags</th>\n",
              "    </tr>\n",
              "  </thead>\n",
              "  <tbody>\n",
              "    <tr>\n",
              "      <th>0</th>\n",
              "      <td>ভুঁইফোড় দুটি সংগঠনকে আইএসআইয়ের অর্থায়ন! বাংলাদ...</td>\n",
              "      <td>mk</td>\n",
              "    </tr>\n",
              "    <tr>\n",
              "      <th>1</th>\n",
              "      <td>আজকের দিনটা এত সুন্দর কেন !! সকাল নয়টা। গুল্লু...</td>\n",
              "      <td>rn</td>\n",
              "    </tr>\n",
              "    <tr>\n",
              "      <th>2</th>\n",
              "      <td>ডিসেম্বর _ ১৯৭১ থেকে ২০১৬ ডিসেম্বর : ১৯৭১ থেকে...</td>\n",
              "      <td>fe</td>\n",
              "    </tr>\n",
              "    <tr>\n",
              "      <th>3</th>\n",
              "      <td>পিচ্চিতোষ গল্প ১৩: অনেক রকম গন্ধ ঘুম থেকে উঠে ...</td>\n",
              "      <td>hm</td>\n",
              "    </tr>\n",
              "    <tr>\n",
              "      <th>4</th>\n",
              "      <td>ইংলিশ ক্যাপ্টেন বাটলারের বাটপারি!!! লড়াই এবার ...</td>\n",
              "      <td>rg</td>\n",
              "    </tr>\n",
              "  </tbody>\n",
              "</table>\n",
              "</div>"
            ],
            "text/plain": [
              "                                                post tags\n",
              "0  ভুঁইফোড় দুটি সংগঠনকে আইএসআইয়ের অর্থায়ন! বাংলাদ...   mk\n",
              "1  আজকের দিনটা এত সুন্দর কেন !! সকাল নয়টা। গুল্লু...   rn\n",
              "2  ডিসেম্বর _ ১৯৭১ থেকে ২০১৬ ডিসেম্বর : ১৯৭১ থেকে...   fe\n",
              "3  পিচ্চিতোষ গল্প ১৩: অনেক রকম গন্ধ ঘুম থেকে উঠে ...   hm\n",
              "4  ইংলিশ ক্যাপ্টেন বাটলারের বাটপারি!!! লড়াই এবার ...   rg"
            ]
          },
          "metadata": {
            "tags": []
          },
          "execution_count": 11
        }
      ]
    },
    {
      "cell_type": "code",
      "metadata": {
        "id": "mtyr9AM1xkgG",
        "colab_type": "code",
        "colab": {
          "base_uri": "https://localhost:8080/",
          "height": 359
        },
        "outputId": "4f6d18e9-dc33-4049-db8f-c572cdfcf764"
      },
      "source": [
        "df.tail(10)"
      ],
      "execution_count": 13,
      "outputs": [
        {
          "output_type": "execute_result",
          "data": {
            "text/html": [
              "<div>\n",
              "<style scoped>\n",
              "    .dataframe tbody tr th:only-of-type {\n",
              "        vertical-align: middle;\n",
              "    }\n",
              "\n",
              "    .dataframe tbody tr th {\n",
              "        vertical-align: top;\n",
              "    }\n",
              "\n",
              "    .dataframe thead th {\n",
              "        text-align: right;\n",
              "    }\n",
              "</style>\n",
              "<table border=\"1\" class=\"dataframe\">\n",
              "  <thead>\n",
              "    <tr style=\"text-align: right;\">\n",
              "      <th></th>\n",
              "      <th>post</th>\n",
              "      <th>tags</th>\n",
              "    </tr>\n",
              "  </thead>\n",
              "  <tbody>\n",
              "    <tr>\n",
              "      <th>2090</th>\n",
              "      <td>প্রসঙ্গ তিন সিটি করপোরেশান নির্বাচন _ টক ঝাল ম...</td>\n",
              "      <td>rg</td>\n",
              "    </tr>\n",
              "    <tr>\n",
              "      <th>2091</th>\n",
              "      <td>গল্প_ সন্ধ্যায়, মাটিরাঙ্গার আধো-অন্ধকার টিলায় ...</td>\n",
              "      <td>ij</td>\n",
              "    </tr>\n",
              "    <tr>\n",
              "      <th>2092</th>\n",
              "      <td>কবি লাওৎ-সে উবাচ লাওৎ-সে ছিলেন প্রাচীন চিনের আ...</td>\n",
              "      <td>ij</td>\n",
              "    </tr>\n",
              "    <tr>\n",
              "      <th>2093</th>\n",
              "      <td>নির্বাচন-জামায়াত ইস্যুতে অস্থিরতায় বিএনপি শেখ ...</td>\n",
              "      <td>mk</td>\n",
              "    </tr>\n",
              "    <tr>\n",
              "      <th>2094</th>\n",
              "      <td>।। স্বপ্নে দেখা ঢাকার লেখক সম্মেলন।। স্বপ্নে দ...</td>\n",
              "      <td>rg</td>\n",
              "    </tr>\n",
              "    <tr>\n",
              "      <th>2095</th>\n",
              "      <td>গল্প_ পরিরা যখন নামল হনুমানের রূপ ধরে সাদা ভূত...</td>\n",
              "      <td>ij</td>\n",
              "    </tr>\n",
              "    <tr>\n",
              "      <th>2096</th>\n",
              "      <td>ভারতীয়রা এখনও মুক্তিযুদ্ধকে সম্মান করে, পাকিস্...</td>\n",
              "      <td>fe</td>\n",
              "    </tr>\n",
              "    <tr>\n",
              "      <th>2097</th>\n",
              "      <td>।। ভালো লাগা শব্দমালা বনাম ভালো না লাগা বৈরীশব...</td>\n",
              "      <td>rg</td>\n",
              "    </tr>\n",
              "    <tr>\n",
              "      <th>2098</th>\n",
              "      <td>ফার্স্ট বেঞ্চে বইতে না দিলে বাইত যামুগা বিরোধী...</td>\n",
              "      <td>hm</td>\n",
              "    </tr>\n",
              "    <tr>\n",
              "      <th>2099</th>\n",
              "      <td>বাংলাদেশের ক্রিকেটকে বাঁচাতে চাই সমুন্নত যৌথ উ...</td>\n",
              "      <td>rg</td>\n",
              "    </tr>\n",
              "  </tbody>\n",
              "</table>\n",
              "</div>"
            ],
            "text/plain": [
              "                                                   post tags\n",
              "2090  প্রসঙ্গ তিন সিটি করপোরেশান নির্বাচন _ টক ঝাল ম...   rg\n",
              "2091  গল্প_ সন্ধ্যায়, মাটিরাঙ্গার আধো-অন্ধকার টিলায় ...   ij\n",
              "2092  কবি লাওৎ-সে উবাচ লাওৎ-সে ছিলেন প্রাচীন চিনের আ...   ij\n",
              "2093  নির্বাচন-জামায়াত ইস্যুতে অস্থিরতায় বিএনপি শেখ ...   mk\n",
              "2094  ।। স্বপ্নে দেখা ঢাকার লেখক সম্মেলন।। স্বপ্নে দ...   rg\n",
              "2095  গল্প_ পরিরা যখন নামল হনুমানের রূপ ধরে সাদা ভূত...   ij\n",
              "2096  ভারতীয়রা এখনও মুক্তিযুদ্ধকে সম্মান করে, পাকিস্...   fe\n",
              "2097  ।। ভালো লাগা শব্দমালা বনাম ভালো না লাগা বৈরীশব...   rg\n",
              "2098  ফার্স্ট বেঞ্চে বইতে না দিলে বাইত যামুগা বিরোধী...   hm\n",
              "2099  বাংলাদেশের ক্রিকেটকে বাঁচাতে চাই সমুন্নত যৌথ উ...   rg"
            ]
          },
          "metadata": {
            "tags": []
          },
          "execution_count": 13
        }
      ]
    },
    {
      "cell_type": "code",
      "metadata": {
        "id": "1sb5i5Tcxoo2",
        "colab_type": "code",
        "colab": {
          "base_uri": "https://localhost:8080/",
          "height": 34
        },
        "outputId": "b2fc8d32-12d1-4696-958c-9dd4facb10c8"
      },
      "source": [
        "len(df)"
      ],
      "execution_count": 14,
      "outputs": [
        {
          "output_type": "execute_result",
          "data": {
            "text/plain": [
              "2100"
            ]
          },
          "metadata": {
            "tags": []
          },
          "execution_count": 14
        }
      ]
    },
    {
      "cell_type": "code",
      "metadata": {
        "id": "he_mKZDfxokY",
        "colab_type": "code",
        "colab": {
          "base_uri": "https://localhost:8080/",
          "height": 136
        },
        "outputId": "bee12814-1fb9-4364-b36c-452912f68562"
      },
      "source": [
        "df.info()"
      ],
      "execution_count": 17,
      "outputs": [
        {
          "output_type": "stream",
          "text": [
            "<class 'pandas.core.frame.DataFrame'>\n",
            "RangeIndex: 2100 entries, 0 to 2099\n",
            "Data columns (total 2 columns):\n",
            "post    2100 non-null object\n",
            "tags    2100 non-null object\n",
            "dtypes: object(2)\n",
            "memory usage: 32.9+ KB\n"
          ],
          "name": "stdout"
        }
      ]
    },
    {
      "cell_type": "code",
      "metadata": {
        "id": "OEGUwgPrxonD",
        "colab_type": "code",
        "colab": {}
      },
      "source": [
        "df['tags']"
      ],
      "execution_count": 0,
      "outputs": []
    },
    {
      "cell_type": "code",
      "metadata": {
        "id": "iiuHZ-AAx0aq",
        "colab_type": "code",
        "colab": {}
      },
      "source": [
        "df.tags"
      ],
      "execution_count": 0,
      "outputs": []
    },
    {
      "cell_type": "code",
      "metadata": {
        "id": "tv-TVzRQx0XT",
        "colab_type": "code",
        "colab": {
          "base_uri": "https://localhost:8080/",
          "height": 34
        },
        "outputId": "d6397eb0-b8d2-47bf-a32f-1e84b32afde5"
      },
      "source": [
        "df.tags.unique()"
      ],
      "execution_count": 19,
      "outputs": [
        {
          "output_type": "execute_result",
          "data": {
            "text/plain": [
              "array(['mk', 'rn', 'fe', 'hm', 'rg', 'ij'], dtype=object)"
            ]
          },
          "metadata": {
            "tags": []
          },
          "execution_count": 19
        }
      ]
    },
    {
      "cell_type": "code",
      "metadata": {
        "id": "qfsHh5Yyx56g",
        "colab_type": "code",
        "colab": {
          "base_uri": "https://localhost:8080/",
          "height": 34
        },
        "outputId": "4caaaab3-181f-4939-9722-f343afbef324"
      },
      "source": [
        "len(df.tags.unique())"
      ],
      "execution_count": 20,
      "outputs": [
        {
          "output_type": "execute_result",
          "data": {
            "text/plain": [
              "6"
            ]
          },
          "metadata": {
            "tags": []
          },
          "execution_count": 20
        }
      ]
    },
    {
      "cell_type": "code",
      "metadata": {
        "id": "2C2wfT-Sx53j",
        "colab_type": "code",
        "colab": {
          "base_uri": "https://localhost:8080/",
          "height": 34
        },
        "outputId": "984ea362-29e5-4800-9b1a-50db6b5149ab"
      },
      "source": [
        "df.tags.nunique()"
      ],
      "execution_count": 21,
      "outputs": [
        {
          "output_type": "execute_result",
          "data": {
            "text/plain": [
              "6"
            ]
          },
          "metadata": {
            "tags": []
          },
          "execution_count": 21
        }
      ]
    },
    {
      "cell_type": "code",
      "metadata": {
        "id": "Hw65T2KizXgK",
        "colab_type": "code",
        "colab": {
          "base_uri": "https://localhost:8080/",
          "height": 136
        },
        "outputId": "61254459-b0f0-407f-d62c-f9d1fae02e2b"
      },
      "source": [
        "df.tags.value_counts()"
      ],
      "execution_count": 23,
      "outputs": [
        {
          "output_type": "execute_result",
          "data": {
            "text/plain": [
              "rg    350\n",
              "fe    350\n",
              "hm    350\n",
              "mk    350\n",
              "rn    350\n",
              "ij    350\n",
              "Name: tags, dtype: int64"
            ]
          },
          "metadata": {
            "tags": []
          },
          "execution_count": 23
        }
      ]
    },
    {
      "cell_type": "code",
      "metadata": {
        "id": "OkZULj_jzsF4",
        "colab_type": "code",
        "colab": {
          "base_uri": "https://localhost:8080/",
          "height": 286
        },
        "outputId": "bb4c1326-db23-49c1-977e-51e263e70378"
      },
      "source": [
        "df.tags.value_counts().plot(kind='barh')"
      ],
      "execution_count": 25,
      "outputs": [
        {
          "output_type": "execute_result",
          "data": {
            "text/plain": [
              "<matplotlib.axes._subplots.AxesSubplot at 0x7f5b73ecfac8>"
            ]
          },
          "metadata": {
            "tags": []
          },
          "execution_count": 25
        },
        {
          "output_type": "display_data",
          "data": {
            "image/png": "[encoded data removed]",
            "text/plain": [
              "<Figure size 432x288 with 1 Axes>"
            ]
          },
          "metadata": {
            "tags": []
          }
        }
      ]
    },
    {
      "cell_type": "markdown",
      "metadata": {
        "id": "1LVYDIURyLKM",
        "colab_type": "text"
      },
      "source": [
        "### Matplotlib"
      ]
    },
    {
      "cell_type": "code",
      "metadata": {
        "id": "XpzxyLcmx5y7",
        "colab_type": "code",
        "colab": {}
      },
      "source": [
        "import matplotlib.pyplot as plt"
      ],
      "execution_count": 0,
      "outputs": []
    },
    {
      "cell_type": "code",
      "metadata": {
        "id": "R4_Zqdb-y4Yu",
        "colab_type": "code",
        "colab": {}
      },
      "source": [
        "??plt.plot()"
      ],
      "execution_count": 0,
      "outputs": []
    },
    {
      "cell_type": "markdown",
      "metadata": {
        "id": "muLJzlMr2mI3",
        "colab_type": "text"
      },
      "source": [
        "### numpy"
      ]
    },
    {
      "cell_type": "code",
      "metadata": {
        "id": "5SXuVnnywDeG",
        "colab_type": "code",
        "colab": {}
      },
      "source": [
        "import numpy as np"
      ],
      "execution_count": 0,
      "outputs": []
    },
    {
      "cell_type": "code",
      "metadata": {
        "id": "nYj1_52r-MtY",
        "colab_type": "code",
        "colab": {
          "base_uri": "https://localhost:8080/",
          "height": 34
        },
        "outputId": "a5162149-5218-497f-a4db-e19f521d61a4"
      },
      "source": [
        "np.ones([1,5])"
      ],
      "execution_count": 37,
      "outputs": [
        {
          "output_type": "execute_result",
          "data": {
            "text/plain": [
              "array([[1., 1., 1., 1., 1.]])"
            ]
          },
          "metadata": {
            "tags": []
          },
          "execution_count": 37
        }
      ]
    },
    {
      "cell_type": "code",
      "metadata": {
        "id": "rUAqW_ir20ln",
        "colab_type": "code",
        "colab": {
          "base_uri": "https://localhost:8080/",
          "height": 51
        },
        "outputId": "c5182f61-26b9-4a46-dab2-d4d150bb8f46"
      },
      "source": [
        "v = np.zeros([2,4])\n",
        "v"
      ],
      "execution_count": 38,
      "outputs": [
        {
          "output_type": "execute_result",
          "data": {
            "text/plain": [
              "array([[0., 0., 0., 0.],\n",
              "       [0., 0., 0., 0.]])"
            ]
          },
          "metadata": {
            "tags": []
          },
          "execution_count": 38
        }
      ]
    },
    {
      "cell_type": "code",
      "metadata": {
        "id": "SiV_YdpX25Lq",
        "colab_type": "code",
        "colab": {
          "base_uri": "https://localhost:8080/",
          "height": 34
        },
        "outputId": "3cc6fb75-faa3-4899-a953-3e8d4fe4a24e"
      },
      "source": [
        "v.shape"
      ],
      "execution_count": 40,
      "outputs": [
        {
          "output_type": "execute_result",
          "data": {
            "text/plain": [
              "(2, 4)"
            ]
          },
          "metadata": {
            "tags": []
          },
          "execution_count": 40
        }
      ]
    },
    {
      "cell_type": "code",
      "metadata": {
        "id": "ksOSS77K25I1",
        "colab_type": "code",
        "colab": {
          "base_uri": "https://localhost:8080/",
          "height": 51
        },
        "outputId": "9bc8a2de-b9d3-4038-a9f0-8e9dd0711cb6"
      },
      "source": [
        "v2 = np.array(\n",
        "    [[1,2,3,4],\n",
        "    [5,6,7,8]])\n",
        "\n",
        "v2"
      ],
      "execution_count": 46,
      "outputs": [
        {
          "output_type": "execute_result",
          "data": {
            "text/plain": [
              "array([[1, 2, 3, 4],\n",
              "       [5, 6, 7, 8]])"
            ]
          },
          "metadata": {
            "tags": []
          },
          "execution_count": 46
        }
      ]
    },
    {
      "cell_type": "code",
      "metadata": {
        "id": "TQ0ziETg4B13",
        "colab_type": "code",
        "colab": {
          "base_uri": "https://localhost:8080/",
          "height": 34
        },
        "outputId": "e7bc00c6-c20a-4179-cb11-ed9b7b0338a5"
      },
      "source": [
        "v2.shape, type(v2) , v2.T.shape"
      ],
      "execution_count": 49,
      "outputs": [
        {
          "output_type": "execute_result",
          "data": {
            "text/plain": [
              "((2, 4), numpy.ndarray, (4, 2))"
            ]
          },
          "metadata": {
            "tags": []
          },
          "execution_count": 49
        }
      ]
    },
    {
      "cell_type": "code",
      "metadata": {
        "id": "ohyyG2Uc4F_H",
        "colab_type": "code",
        "colab": {
          "base_uri": "https://localhost:8080/",
          "height": 51
        },
        "outputId": "435e1d04-b0e1-4d9d-ff4f-25cbc4741728"
      },
      "source": [
        "v+v2"
      ],
      "execution_count": 48,
      "outputs": [
        {
          "output_type": "execute_result",
          "data": {
            "text/plain": [
              "array([[1., 2., 3., 4.],\n",
              "       [5., 6., 7., 8.]])"
            ]
          },
          "metadata": {
            "tags": []
          },
          "execution_count": 48
        }
      ]
    },
    {
      "cell_type": "code",
      "metadata": {
        "id": "s2wkkjdp4F8T",
        "colab_type": "code",
        "colab": {
          "base_uri": "https://localhost:8080/",
          "height": 51
        },
        "outputId": "c690d580-5773-49f1-9658-69ed73a7c417"
      },
      "source": [
        "np.matmul(v,v2.T)"
      ],
      "execution_count": 51,
      "outputs": [
        {
          "output_type": "execute_result",
          "data": {
            "text/plain": [
              "array([[0., 0.],\n",
              "       [0., 0.]])"
            ]
          },
          "metadata": {
            "tags": []
          },
          "execution_count": 51
        }
      ]
    },
    {
      "cell_type": "markdown",
      "metadata": {
        "id": "VQp-ERfN4Tt1",
        "colab_type": "text"
      },
      "source": [
        "## Data"
      ]
    },
    {
      "cell_type": "code",
      "metadata": {
        "id": "edy7HtMb4W1B",
        "colab_type": "code",
        "colab": {
          "base_uri": "https://localhost:8080/",
          "height": 204
        },
        "outputId": "b22b09e0-7b86-4384-96f0-1693d89f5191"
      },
      "source": [
        "df.head()"
      ],
      "execution_count": 52,
      "outputs": [
        {
          "output_type": "execute_result",
          "data": {
            "text/html": [
              "<div>\n",
              "<style scoped>\n",
              "    .dataframe tbody tr th:only-of-type {\n",
              "        vertical-align: middle;\n",
              "    }\n",
              "\n",
              "    .dataframe tbody tr th {\n",
              "        vertical-align: top;\n",
              "    }\n",
              "\n",
              "    .dataframe thead th {\n",
              "        text-align: right;\n",
              "    }\n",
              "</style>\n",
              "<table border=\"1\" class=\"dataframe\">\n",
              "  <thead>\n",
              "    <tr style=\"text-align: right;\">\n",
              "      <th></th>\n",
              "      <th>post</th>\n",
              "      <th>tags</th>\n",
              "    </tr>\n",
              "  </thead>\n",
              "  <tbody>\n",
              "    <tr>\n",
              "      <th>0</th>\n",
              "      <td>ভুঁইফোড় দুটি সংগঠনকে আইএসআইয়ের অর্থায়ন! বাংলাদ...</td>\n",
              "      <td>mk</td>\n",
              "    </tr>\n",
              "    <tr>\n",
              "      <th>1</th>\n",
              "      <td>আজকের দিনটা এত সুন্দর কেন !! সকাল নয়টা। গুল্লু...</td>\n",
              "      <td>rn</td>\n",
              "    </tr>\n",
              "    <tr>\n",
              "      <th>2</th>\n",
              "      <td>ডিসেম্বর _ ১৯৭১ থেকে ২০১৬ ডিসেম্বর : ১৯৭১ থেকে...</td>\n",
              "      <td>fe</td>\n",
              "    </tr>\n",
              "    <tr>\n",
              "      <th>3</th>\n",
              "      <td>পিচ্চিতোষ গল্প ১৩: অনেক রকম গন্ধ ঘুম থেকে উঠে ...</td>\n",
              "      <td>hm</td>\n",
              "    </tr>\n",
              "    <tr>\n",
              "      <th>4</th>\n",
              "      <td>ইংলিশ ক্যাপ্টেন বাটলারের বাটপারি!!! লড়াই এবার ...</td>\n",
              "      <td>rg</td>\n",
              "    </tr>\n",
              "  </tbody>\n",
              "</table>\n",
              "</div>"
            ],
            "text/plain": [
              "                                                post tags\n",
              "0  ভুঁইফোড় দুটি সংগঠনকে আইএসআইয়ের অর্থায়ন! বাংলাদ...   mk\n",
              "1  আজকের দিনটা এত সুন্দর কেন !! সকাল নয়টা। গুল্লু...   rn\n",
              "2  ডিসেম্বর _ ১৯৭১ থেকে ২০১৬ ডিসেম্বর : ১৯৭১ থেকে...   fe\n",
              "3  পিচ্চিতোষ গল্প ১৩: অনেক রকম গন্ধ ঘুম থেকে উঠে ...   hm\n",
              "4  ইংলিশ ক্যাপ্টেন বাটলারের বাটপারি!!! লড়াই এবার ...   rg"
            ]
          },
          "metadata": {
            "tags": []
          },
          "execution_count": 52
        }
      ]
    },
    {
      "cell_type": "code",
      "metadata": {
        "id": "LnasoTJq4cF-",
        "colab_type": "code",
        "colab": {
          "base_uri": "https://localhost:8080/",
          "height": 136
        },
        "outputId": "045c666f-2941-4576-9c35-7e5df29fbf08"
      },
      "source": [
        "df.info()"
      ],
      "execution_count": 53,
      "outputs": [
        {
          "output_type": "stream",
          "text": [
            "<class 'pandas.core.frame.DataFrame'>\n",
            "RangeIndex: 2100 entries, 0 to 2099\n",
            "Data columns (total 2 columns):\n",
            "post    2100 non-null object\n",
            "tags    2100 non-null object\n",
            "dtypes: object(2)\n",
            "memory usage: 32.9+ KB\n"
          ],
          "name": "stdout"
        }
      ]
    },
    {
      "cell_type": "code",
      "metadata": {
        "id": "awCIa2dd_I9D",
        "colab_type": "code",
        "colab": {}
      },
      "source": [
        "#create clean DataFrame\n",
        "col = ['tags', 'post']\n",
        "df = df[col]\n",
        "df = df[pd.notnull(df['post'])]"
      ],
      "execution_count": 0,
      "outputs": []
    },
    {
      "cell_type": "code",
      "metadata": {
        "id": "0oEIN44R4ltf",
        "colab_type": "code",
        "colab": {
          "base_uri": "https://localhost:8080/",
          "height": 204
        },
        "outputId": "7728b101-631b-47d8-c714-0689fd9f1563"
      },
      "source": [
        "df.head()"
      ],
      "execution_count": 55,
      "outputs": [
        {
          "output_type": "execute_result",
          "data": {
            "text/html": [
              "<div>\n",
              "<style scoped>\n",
              "    .dataframe tbody tr th:only-of-type {\n",
              "        vertical-align: middle;\n",
              "    }\n",
              "\n",
              "    .dataframe tbody tr th {\n",
              "        vertical-align: top;\n",
              "    }\n",
              "\n",
              "    .dataframe thead th {\n",
              "        text-align: right;\n",
              "    }\n",
              "</style>\n",
              "<table border=\"1\" class=\"dataframe\">\n",
              "  <thead>\n",
              "    <tr style=\"text-align: right;\">\n",
              "      <th></th>\n",
              "      <th>tags</th>\n",
              "      <th>post</th>\n",
              "    </tr>\n",
              "  </thead>\n",
              "  <tbody>\n",
              "    <tr>\n",
              "      <th>0</th>\n",
              "      <td>mk</td>\n",
              "      <td>ভুঁইফোড় দুটি সংগঠনকে আইএসআইয়ের অর্থায়ন! বাংলাদ...</td>\n",
              "    </tr>\n",
              "    <tr>\n",
              "      <th>1</th>\n",
              "      <td>rn</td>\n",
              "      <td>আজকের দিনটা এত সুন্দর কেন !! সকাল নয়টা। গুল্লু...</td>\n",
              "    </tr>\n",
              "    <tr>\n",
              "      <th>2</th>\n",
              "      <td>fe</td>\n",
              "      <td>ডিসেম্বর _ ১৯৭১ থেকে ২০১৬ ডিসেম্বর : ১৯৭১ থেকে...</td>\n",
              "    </tr>\n",
              "    <tr>\n",
              "      <th>3</th>\n",
              "      <td>hm</td>\n",
              "      <td>পিচ্চিতোষ গল্প ১৩: অনেক রকম গন্ধ ঘুম থেকে উঠে ...</td>\n",
              "    </tr>\n",
              "    <tr>\n",
              "      <th>4</th>\n",
              "      <td>rg</td>\n",
              "      <td>ইংলিশ ক্যাপ্টেন বাটলারের বাটপারি!!! লড়াই এবার ...</td>\n",
              "    </tr>\n",
              "  </tbody>\n",
              "</table>\n",
              "</div>"
            ],
            "text/plain": [
              "  tags                                               post\n",
              "0   mk  ভুঁইফোড় দুটি সংগঠনকে আইএসআইয়ের অর্থায়ন! বাংলাদ...\n",
              "1   rn  আজকের দিনটা এত সুন্দর কেন !! সকাল নয়টা। গুল্লু...\n",
              "2   fe  ডিসেম্বর _ ১৯৭১ থেকে ২০১৬ ডিসেম্বর : ১৯৭১ থেকে...\n",
              "3   hm  পিচ্চিতোষ গল্প ১৩: অনেক রকম গন্ধ ঘুম থেকে উঠে ...\n",
              "4   rg  ইংলিশ ক্যাপ্টেন বাটলারের বাটপারি!!! লড়াই এবার ..."
            ]
          },
          "metadata": {
            "tags": []
          },
          "execution_count": 55
        }
      ]
    },
    {
      "cell_type": "code",
      "metadata": {
        "id": "lOGKXkLv4u1E",
        "colab_type": "code",
        "colab": {}
      },
      "source": [
        "#Feature Extraction. Also known as vectorizing data. Basically digitalizing it in meaningful ways.\n",
        "from sklearn import model_selection, preprocessing\n",
        "from sklearn.model_selection import train_test_split\n",
        "from sklearn.feature_extraction.text import TfidfVectorizer\n",
        "from sklearn.feature_extraction.text import CountVectorizer\n",
        "\n",
        "#everything needs to be digitalized. Labels and Texts.\n",
        "\n",
        "#labels digitalized here in Y axis\n",
        "encoder = preprocessing.LabelEncoder()\n",
        "y = encoder.fit_transform(df['tags'])"
      ],
      "execution_count": 0,
      "outputs": []
    },
    {
      "cell_type": "code",
      "metadata": {
        "id": "JG73iAHG8eJ-",
        "colab_type": "code",
        "colab": {
          "base_uri": "https://localhost:8080/",
          "height": 34
        },
        "outputId": "0c391f9d-85f7-4880-896d-55b4b3024f8f"
      },
      "source": [
        "y"
      ],
      "execution_count": 57,
      "outputs": [
        {
          "output_type": "execute_result",
          "data": {
            "text/plain": [
              "array([3, 5, 0, ..., 4, 1, 4])"
            ]
          },
          "metadata": {
            "tags": []
          },
          "execution_count": 57
        }
      ]
    },
    {
      "cell_type": "code",
      "metadata": {
        "id": "s0DT7lzF8g5e",
        "colab_type": "code",
        "colab": {
          "base_uri": "https://localhost:8080/",
          "height": 34
        },
        "outputId": "6e7e8ed4-28e7-4524-f6b0-778b9f0d27fc"
      },
      "source": [
        "len(y)"
      ],
      "execution_count": 58,
      "outputs": [
        {
          "output_type": "execute_result",
          "data": {
            "text/plain": [
              "2100"
            ]
          },
          "metadata": {
            "tags": []
          },
          "execution_count": 58
        }
      ]
    },
    {
      "cell_type": "markdown",
      "metadata": {
        "id": "vYNdzN379DUH",
        "colab_type": "text"
      },
      "source": [
        "https://machinelearningmastery.com/prepare-text-data-machine-learning-scikit-learn/"
      ]
    },
    {
      "cell_type": "code",
      "metadata": {
        "id": "BCF9m76ZM4M7",
        "colab_type": "code",
        "colab": {}
      },
      "source": [
        "#Posts digitalized here in x-axis\n",
        "countvec = CountVectorizer()\n",
        "X_data_full_tfidf = countvec.fit_transform(df['post'])\n",
        "# tfidf = TfidfVectorizer(sublinear_tf=True, min_df=5, norm='l2', encoding='latin-1')\n",
        "# tfidf = TfidfVectorizer(sublinear_tf=True, min_df=5, norm='l2', encoding='latin-1', ngram_range=(1,2))\n",
        "# X_data_full_tfidf = tfidf.fit_transform(df['post'])"
      ],
      "execution_count": 0,
      "outputs": []
    },
    {
      "cell_type": "code",
      "metadata": {
        "id": "TU-PYsRh9Hc6",
        "colab_type": "code",
        "colab": {
          "base_uri": "https://localhost:8080/",
          "height": 34
        },
        "outputId": "05d921ad-7f64-4a15-afb9-3eea2780b7fb"
      },
      "source": [
        "X_data_full_tfidf.shape"
      ],
      "execution_count": 60,
      "outputs": [
        {
          "output_type": "execute_result",
          "data": {
            "text/plain": [
              "(2100, 21956)"
            ]
          },
          "metadata": {
            "tags": []
          },
          "execution_count": 60
        }
      ]
    },
    {
      "cell_type": "code",
      "metadata": {
        "id": "rg8C0kuZ9K50",
        "colab_type": "code",
        "colab": {
          "base_uri": "https://localhost:8080/",
          "height": 51
        },
        "outputId": "3e5b360a-4658-4863-89a4-f43b30eea977"
      },
      "source": [
        "X_data_full_tfidf"
      ],
      "execution_count": 71,
      "outputs": [
        {
          "output_type": "execute_result",
          "data": {
            "text/plain": [
              "<2100x21956 sparse matrix of type '<class 'numpy.int64'>'\n",
              "\twith 543470 stored elements in Compressed Sparse Row format>"
            ]
          },
          "metadata": {
            "tags": []
          },
          "execution_count": 71
        }
      ]
    },
    {
      "cell_type": "code",
      "metadata": {
        "id": "mafxo8t88b0Y",
        "colab_type": "code",
        "colab": {}
      },
      "source": [
        "X_train, X_test, y_train, y_test = train_test_split(X_data_full_tfidf, y, test_size=0.4 , random_state = 52)"
      ],
      "execution_count": 0,
      "outputs": []
    },
    {
      "cell_type": "code",
      "metadata": {
        "id": "WJaWMVAk8bwy",
        "colab_type": "code",
        "colab": {
          "base_uri": "https://localhost:8080/",
          "height": 34
        },
        "outputId": "357760ea-dfbf-40e6-aff2-0fa66f494d47"
      },
      "source": [
        "X_train.shape , X_test.shape, y_train.shape, y_test.shape"
      ],
      "execution_count": 73,
      "outputs": [
        {
          "output_type": "execute_result",
          "data": {
            "text/plain": [
              "((1260, 21956), (840, 21956), (1260,), (840,))"
            ]
          },
          "metadata": {
            "tags": []
          },
          "execution_count": 73
        }
      ]
    },
    {
      "cell_type": "markdown",
      "metadata": {
        "id": "4YfeAZQC-b64",
        "colab_type": "text"
      },
      "source": [
        "## Training"
      ]
    },
    {
      "cell_type": "code",
      "metadata": {
        "id": "ZKY1kBGd-Kye",
        "colab_type": "code",
        "colab": {
          "base_uri": "https://localhost:8080/",
          "height": 34
        },
        "outputId": "d3c0b863-4038-4c89-c5cd-ded304166f61"
      },
      "source": [
        "#with a naive bayes\n",
        "from sklearn.naive_bayes import MultinomialNB\n",
        "from sklearn.svm import SVC\n",
        "\n",
        "\n",
        "clf = MultinomialNB().fit(X_train, y_train)\n",
        "print(\"naive bayes accuracy is\",end=' ')\n",
        "\n",
        "#evaluate classifier\n",
        "\n",
        "print(clf.score(X_test, y_test))"
      ],
      "execution_count": 77,
      "outputs": [
        {
          "output_type": "stream",
          "text": [
            "naive bayes accuracy is 0.7976190476190477\n"
          ],
          "name": "stdout"
        }
      ]
    },
    {
      "cell_type": "code",
      "metadata": {
        "id": "BBfULZ3sNqaI",
        "colab_type": "code",
        "outputId": "bddd6ece-5e84-43a4-b936-80e907648f3c",
        "colab": {
          "base_uri": "https://localhost:8080/",
          "height": 34
        }
      },
      "source": [
        "#with a support vector machine\n",
        "clf = SVC(kernel='linear')\n",
        "clf.fit(X_train, y_train)\n",
        "print(\"Support Vector with Linear Kernel Accuracy is:\", clf.score(X_test, y_test))"
      ],
      "execution_count": 78,
      "outputs": [
        {
          "output_type": "stream",
          "text": [
            "Support Vector with Linear Kernel Accuracy is: 0.8297619047619048\n"
          ],
          "name": "stdout"
        }
      ]
    },
    {
      "cell_type": "code",
      "metadata": {
        "id": "0ChnXRPwN_CL",
        "colab_type": "code",
        "colab": {}
      },
      "source": [
        "#Most research is done in :\n",
        "#Feature extraction\n",
        "#Preprocessing\n",
        "#Algorithms and choices\n",
        "\n",
        "#Current State of the Art and future tracks for study purposes:\n",
        "#Deep Learning Architectures and Neural Networks\n",
        "#Ensembled Learning or Hierarchical Architectures(Less Popular)\n",
        "\n",
        "#Frameworks to learn:\n",
        "#Tensorflow\n",
        "#Pytorch\n",
        "#Caffe\n",
        "\n",
        "#Beginner Friendly framework:\n",
        "#Keras"
      ],
      "execution_count": 0,
      "outputs": []
    },
    {
      "cell_type": "code",
      "metadata": {
        "id": "k80s-TzT--ei",
        "colab_type": "code",
        "colab": {}
      },
      "source": [
        ""
      ],
      "execution_count": 0,
      "outputs": []
    }
  ]
}